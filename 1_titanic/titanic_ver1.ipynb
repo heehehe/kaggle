{
 "cells": [
  {
   "cell_type": "code",
   "execution_count": 1,
   "metadata": {},
   "outputs": [],
   "source": [
    "import pandas as pd\n",
    "import numpy as np\n",
    "import os"
   ]
  },
  {
   "cell_type": "code",
   "execution_count": 2,
   "metadata": {},
   "outputs": [],
   "source": [
    "os.chdir(\"D:\\\\빅데이터\\\\Google 머신러닝 스터디잼\\\\titanic\")"
   ]
  },
  {
   "cell_type": "code",
   "execution_count": 3,
   "metadata": {},
   "outputs": [],
   "source": [
    "train = pd.read_csv(\"train.csv\")"
   ]
  },
  {
   "cell_type": "code",
   "execution_count": 4,
   "metadata": {},
   "outputs": [],
   "source": [
    "test = pd.read_csv(\"test.csv\")"
   ]
  },
  {
   "cell_type": "code",
   "execution_count": 6,
   "metadata": {},
   "outputs": [
    {
     "data": {
      "text/html": [
       "<div>\n",
       "<style scoped>\n",
       "    .dataframe tbody tr th:only-of-type {\n",
       "        vertical-align: middle;\n",
       "    }\n",
       "\n",
       "    .dataframe tbody tr th {\n",
       "        vertical-align: top;\n",
       "    }\n",
       "\n",
       "    .dataframe thead th {\n",
       "        text-align: right;\n",
       "    }\n",
       "</style>\n",
       "<table border=\"1\" class=\"dataframe\">\n",
       "  <thead>\n",
       "    <tr style=\"text-align: right;\">\n",
       "      <th></th>\n",
       "      <th>PassengerId</th>\n",
       "      <th>Survived</th>\n",
       "      <th>Pclass</th>\n",
       "      <th>Name</th>\n",
       "      <th>Sex</th>\n",
       "      <th>Age</th>\n",
       "      <th>SibSp</th>\n",
       "      <th>Parch</th>\n",
       "      <th>Ticket</th>\n",
       "      <th>Fare</th>\n",
       "      <th>Cabin</th>\n",
       "      <th>Embarked</th>\n",
       "    </tr>\n",
       "  </thead>\n",
       "  <tbody>\n",
       "    <tr>\n",
       "      <th>0</th>\n",
       "      <td>1</td>\n",
       "      <td>0</td>\n",
       "      <td>3</td>\n",
       "      <td>Braund, Mr. Owen Harris</td>\n",
       "      <td>male</td>\n",
       "      <td>22.0</td>\n",
       "      <td>1</td>\n",
       "      <td>0</td>\n",
       "      <td>A/5 21171</td>\n",
       "      <td>7.2500</td>\n",
       "      <td>NaN</td>\n",
       "      <td>S</td>\n",
       "    </tr>\n",
       "    <tr>\n",
       "      <th>1</th>\n",
       "      <td>2</td>\n",
       "      <td>1</td>\n",
       "      <td>1</td>\n",
       "      <td>Cumings, Mrs. John Bradley (Florence Briggs Th...</td>\n",
       "      <td>female</td>\n",
       "      <td>38.0</td>\n",
       "      <td>1</td>\n",
       "      <td>0</td>\n",
       "      <td>PC 17599</td>\n",
       "      <td>71.2833</td>\n",
       "      <td>C85</td>\n",
       "      <td>C</td>\n",
       "    </tr>\n",
       "    <tr>\n",
       "      <th>2</th>\n",
       "      <td>3</td>\n",
       "      <td>1</td>\n",
       "      <td>3</td>\n",
       "      <td>Heikkinen, Miss. Laina</td>\n",
       "      <td>female</td>\n",
       "      <td>26.0</td>\n",
       "      <td>0</td>\n",
       "      <td>0</td>\n",
       "      <td>STON/O2. 3101282</td>\n",
       "      <td>7.9250</td>\n",
       "      <td>NaN</td>\n",
       "      <td>S</td>\n",
       "    </tr>\n",
       "    <tr>\n",
       "      <th>3</th>\n",
       "      <td>4</td>\n",
       "      <td>1</td>\n",
       "      <td>1</td>\n",
       "      <td>Futrelle, Mrs. Jacques Heath (Lily May Peel)</td>\n",
       "      <td>female</td>\n",
       "      <td>35.0</td>\n",
       "      <td>1</td>\n",
       "      <td>0</td>\n",
       "      <td>113803</td>\n",
       "      <td>53.1000</td>\n",
       "      <td>C123</td>\n",
       "      <td>S</td>\n",
       "    </tr>\n",
       "    <tr>\n",
       "      <th>4</th>\n",
       "      <td>5</td>\n",
       "      <td>0</td>\n",
       "      <td>3</td>\n",
       "      <td>Allen, Mr. William Henry</td>\n",
       "      <td>male</td>\n",
       "      <td>35.0</td>\n",
       "      <td>0</td>\n",
       "      <td>0</td>\n",
       "      <td>373450</td>\n",
       "      <td>8.0500</td>\n",
       "      <td>NaN</td>\n",
       "      <td>S</td>\n",
       "    </tr>\n",
       "  </tbody>\n",
       "</table>\n",
       "</div>"
      ],
      "text/plain": [
       "   PassengerId  Survived  Pclass  \\\n",
       "0            1         0       3   \n",
       "1            2         1       1   \n",
       "2            3         1       3   \n",
       "3            4         1       1   \n",
       "4            5         0       3   \n",
       "\n",
       "                                                Name     Sex   Age  SibSp  \\\n",
       "0                            Braund, Mr. Owen Harris    male  22.0      1   \n",
       "1  Cumings, Mrs. John Bradley (Florence Briggs Th...  female  38.0      1   \n",
       "2                             Heikkinen, Miss. Laina  female  26.0      0   \n",
       "3       Futrelle, Mrs. Jacques Heath (Lily May Peel)  female  35.0      1   \n",
       "4                           Allen, Mr. William Henry    male  35.0      0   \n",
       "\n",
       "   Parch            Ticket     Fare Cabin Embarked  \n",
       "0      0         A/5 21171   7.2500   NaN        S  \n",
       "1      0          PC 17599  71.2833   C85        C  \n",
       "2      0  STON/O2. 3101282   7.9250   NaN        S  \n",
       "3      0            113803  53.1000  C123        S  \n",
       "4      0            373450   8.0500   NaN        S  "
      ]
     },
     "execution_count": 6,
     "metadata": {},
     "output_type": "execute_result"
    }
   ],
   "source": [
    "train.head()"
   ]
  },
  {
   "cell_type": "code",
   "execution_count": 93,
   "metadata": {},
   "outputs": [
    {
     "data": {
      "text/html": [
       "<div>\n",
       "<style scoped>\n",
       "    .dataframe tbody tr th:only-of-type {\n",
       "        vertical-align: middle;\n",
       "    }\n",
       "\n",
       "    .dataframe tbody tr th {\n",
       "        vertical-align: top;\n",
       "    }\n",
       "\n",
       "    .dataframe thead th {\n",
       "        text-align: right;\n",
       "    }\n",
       "</style>\n",
       "<table border=\"1\" class=\"dataframe\">\n",
       "  <thead>\n",
       "    <tr style=\"text-align: right;\">\n",
       "      <th></th>\n",
       "      <th>PassengerId</th>\n",
       "      <th>Pclass</th>\n",
       "      <th>Name</th>\n",
       "      <th>Sex</th>\n",
       "      <th>Age</th>\n",
       "      <th>SibSp</th>\n",
       "      <th>Parch</th>\n",
       "      <th>Ticket</th>\n",
       "      <th>Fare</th>\n",
       "      <th>Cabin</th>\n",
       "      <th>Embarked</th>\n",
       "      <th>NEW_Cabin</th>\n",
       "      <th>NEW_Age</th>\n",
       "      <th>NEW_Fare</th>\n",
       "    </tr>\n",
       "  </thead>\n",
       "  <tbody>\n",
       "    <tr>\n",
       "      <th>0</th>\n",
       "      <td>892</td>\n",
       "      <td>3</td>\n",
       "      <td>Kelly, Mr. James</td>\n",
       "      <td>male</td>\n",
       "      <td>34.5</td>\n",
       "      <td>0</td>\n",
       "      <td>0</td>\n",
       "      <td>330911</td>\n",
       "      <td>7.8292</td>\n",
       "      <td>NaN</td>\n",
       "      <td>Q</td>\n",
       "      <td>0</td>\n",
       "      <td>2030.0</td>\n",
       "      <td>7.8292</td>\n",
       "    </tr>\n",
       "    <tr>\n",
       "      <th>1</th>\n",
       "      <td>893</td>\n",
       "      <td>3</td>\n",
       "      <td>Wilkes, Mrs. James (Ellen Needs)</td>\n",
       "      <td>female</td>\n",
       "      <td>47.0</td>\n",
       "      <td>1</td>\n",
       "      <td>0</td>\n",
       "      <td>363272</td>\n",
       "      <td>7.0000</td>\n",
       "      <td>NaN</td>\n",
       "      <td>S</td>\n",
       "      <td>0</td>\n",
       "      <td>4050.0</td>\n",
       "      <td>7.0000</td>\n",
       "    </tr>\n",
       "    <tr>\n",
       "      <th>2</th>\n",
       "      <td>894</td>\n",
       "      <td>2</td>\n",
       "      <td>Myles, Mr. Thomas Francis</td>\n",
       "      <td>male</td>\n",
       "      <td>62.0</td>\n",
       "      <td>0</td>\n",
       "      <td>0</td>\n",
       "      <td>240276</td>\n",
       "      <td>9.6875</td>\n",
       "      <td>NaN</td>\n",
       "      <td>Q</td>\n",
       "      <td>0</td>\n",
       "      <td>6070.0</td>\n",
       "      <td>9.6875</td>\n",
       "    </tr>\n",
       "    <tr>\n",
       "      <th>3</th>\n",
       "      <td>895</td>\n",
       "      <td>3</td>\n",
       "      <td>Wirz, Mr. Albert</td>\n",
       "      <td>male</td>\n",
       "      <td>27.0</td>\n",
       "      <td>0</td>\n",
       "      <td>0</td>\n",
       "      <td>315154</td>\n",
       "      <td>8.6625</td>\n",
       "      <td>NaN</td>\n",
       "      <td>S</td>\n",
       "      <td>0</td>\n",
       "      <td>2030.0</td>\n",
       "      <td>8.6625</td>\n",
       "    </tr>\n",
       "    <tr>\n",
       "      <th>4</th>\n",
       "      <td>896</td>\n",
       "      <td>3</td>\n",
       "      <td>Hirvonen, Mrs. Alexander (Helga E Lindqvist)</td>\n",
       "      <td>female</td>\n",
       "      <td>22.0</td>\n",
       "      <td>1</td>\n",
       "      <td>1</td>\n",
       "      <td>3101298</td>\n",
       "      <td>12.2875</td>\n",
       "      <td>NaN</td>\n",
       "      <td>S</td>\n",
       "      <td>0</td>\n",
       "      <td>2030.0</td>\n",
       "      <td>12.2875</td>\n",
       "    </tr>\n",
       "  </tbody>\n",
       "</table>\n",
       "</div>"
      ],
      "text/plain": [
       "   PassengerId  Pclass                                          Name     Sex  \\\n",
       "0          892       3                              Kelly, Mr. James    male   \n",
       "1          893       3              Wilkes, Mrs. James (Ellen Needs)  female   \n",
       "2          894       2                     Myles, Mr. Thomas Francis    male   \n",
       "3          895       3                              Wirz, Mr. Albert    male   \n",
       "4          896       3  Hirvonen, Mrs. Alexander (Helga E Lindqvist)  female   \n",
       "\n",
       "    Age  SibSp  Parch   Ticket     Fare Cabin Embarked  NEW_Cabin  NEW_Age  \\\n",
       "0  34.5      0      0   330911   7.8292   NaN        Q          0   2030.0   \n",
       "1  47.0      1      0   363272   7.0000   NaN        S          0   4050.0   \n",
       "2  62.0      0      0   240276   9.6875   NaN        Q          0   6070.0   \n",
       "3  27.0      0      0   315154   8.6625   NaN        S          0   2030.0   \n",
       "4  22.0      1      1  3101298  12.2875   NaN        S          0   2030.0   \n",
       "\n",
       "   NEW_Fare  \n",
       "0    7.8292  \n",
       "1    7.0000  \n",
       "2    9.6875  \n",
       "3    8.6625  \n",
       "4   12.2875  "
      ]
     },
     "execution_count": 93,
     "metadata": {},
     "output_type": "execute_result"
    }
   ],
   "source": [
    "test.head()"
   ]
  },
  {
   "cell_type": "code",
   "execution_count": 94,
   "metadata": {},
   "outputs": [],
   "source": [
    "# PassengerID & Name 열 삭제\n",
    "del train['PassengerId']\n",
    "del train['Name']\n",
    "del test['PassengerId']\n",
    "del test['Name']"
   ]
  },
  {
   "cell_type": "markdown",
   "metadata": {},
   "source": [
    "columns & na 개수 확인"
   ]
  },
  {
   "cell_type": "code",
   "execution_count": 85,
   "metadata": {},
   "outputs": [
    {
     "name": "stdout",
     "output_type": "stream",
     "text": [
      "<class 'pandas.core.frame.DataFrame'>\n",
      "RangeIndex: 891 entries, 0 to 890\n",
      "Data columns (total 13 columns):\n",
      "Survived        891 non-null int64\n",
      "Pclass          891 non-null int64\n",
      "Sex             891 non-null object\n",
      "Age             714 non-null float64\n",
      "SibSp           891 non-null int64\n",
      "Parch           891 non-null int64\n",
      "Ticket          891 non-null object\n",
      "Fare            891 non-null float64\n",
      "Cabin           204 non-null object\n",
      "Embarked        889 non-null object\n",
      "NEW_Cabin       891 non-null int64\n",
      "NEW_Embarked    891 non-null object\n",
      "NEW_Age         891 non-null float64\n",
      "dtypes: float64(3), int64(5), object(5)\n",
      "memory usage: 90.6+ KB\n"
     ]
    }
   ],
   "source": [
    "train.info() # age, cabin, embarked에 null 값 확인"
   ]
  },
  {
   "cell_type": "code",
   "execution_count": 92,
   "metadata": {},
   "outputs": [
    {
     "name": "stdout",
     "output_type": "stream",
     "text": [
      "<class 'pandas.core.frame.DataFrame'>\n",
      "RangeIndex: 418 entries, 0 to 417\n",
      "Data columns (total 14 columns):\n",
      "PassengerId    418 non-null int64\n",
      "Pclass         418 non-null int64\n",
      "Name           418 non-null object\n",
      "Sex            418 non-null object\n",
      "Age            332 non-null float64\n",
      "SibSp          418 non-null int64\n",
      "Parch          418 non-null int64\n",
      "Ticket         418 non-null object\n",
      "Fare           417 non-null float64\n",
      "Cabin          91 non-null object\n",
      "Embarked       418 non-null object\n",
      "NEW_Cabin      418 non-null int64\n",
      "NEW_Age        418 non-null float64\n",
      "NEW_Fare       418 non-null float64\n",
      "dtypes: float64(4), int64(5), object(5)\n",
      "memory usage: 45.8+ KB\n"
     ]
    }
   ],
   "source": [
    "test.info() # age, fare, cabin에 null 값 확인"
   ]
  },
  {
   "cell_type": "markdown",
   "metadata": {},
   "source": [
    "NA 값 채우기 - 이전 데이터 비율 고려"
   ]
  },
  {
   "cell_type": "code",
   "execution_count": 24,
   "metadata": {},
   "outputs": [],
   "source": [
    "# Cabin NA 채우기\n",
    "train['NEW_Cabin'] = pd.isna(train['Cabin']).map({True:0, False:1})\n",
    "test['NEW_Cabin'] = pd.isna(test['Cabin']).map({True:0, False:1})"
   ]
  },
  {
   "cell_type": "code",
   "execution_count": 95,
   "metadata": {},
   "outputs": [],
   "source": [
    "# Embarked NA 채우기\n",
    "C = len(train[train['Embarked']=='C'])/(pd.isna(train['Embarked'])==False).sum()\n",
    "Q = len(train[train['Embarked']=='Q'])/(pd.isna(train['Embarked'])==False).sum()\n",
    "S = len(train[train['Embarked']=='S'])/(pd.isna(train['Embarked'])==False).sum()\n",
    "train['NEW_Embarked'] = train['Embarked'].fillna(np.random.choice(['C','Q','S'], p=[C,Q,S]))"
   ]
  },
  {
   "cell_type": "code",
   "execution_count": 82,
   "metadata": {},
   "outputs": [],
   "source": [
    "# Age NA 채우기\n",
    "def age_split(x):\n",
    "    if x < 20:\n",
    "        return 10\n",
    "    elif x < 40:\n",
    "        return 2030\n",
    "    elif x < 60:\n",
    "        return 4050\n",
    "    elif x < 80:\n",
    "        return 6070\n",
    "    else:\n",
    "        return np.nan\n",
    "    \n",
    "train['NEW_Age'] = train['Age'].map(lambda x: age_split(x))\n",
    "test['NEW_Age'] = test['Age'].map(lambda x: age_split(x))\n",
    "age_010 = len(train[train['NEW_Age']==10])/(pd.isna(train['NEW_Age'])==False).sum()\n",
    "age_2030 = len(train[train['NEW_Age']==2030])/(pd.isna(train['NEW_Age'])==False).sum()\n",
    "age_4050 = len(train[train['NEW_Age']==4050])/(pd.isna(train['NEW_Age'])==False).sum()\n",
    "age_6070 = len(train[train['NEW_Age']==6070])/(pd.isna(train['NEW_Age'])==False).sum()\n",
    "train['NEW_Age'] = train['NEW_Age'].fillna(np.random.choice([10,2030,4050,6070], p =[age_010, age_2030, age_4050, age_6070]))\n",
    "test['NEW_Age'] = test['NEW_Age'].fillna(np.random.choice([10,2030,4050,6070], p =[age_010, age_2030, age_4050, age_6070]))"
   ]
  },
  {
   "cell_type": "code",
   "execution_count": 204,
   "metadata": {},
   "outputs": [],
   "source": [
    "# Fare NA 채우기\n",
    "test['Fare'] = test['Fare'].fillna(test['Fare'].mean())"
   ]
  },
  {
   "cell_type": "markdown",
   "metadata": {},
   "source": [
    "범주형 변수(Pclass, Sex, Ticket, Embarked, NEW_Age) 처리"
   ]
  },
  {
   "cell_type": "code",
   "execution_count": 211,
   "metadata": {},
   "outputs": [
    {
     "data": {
      "text/plain": [
       "{1, 2, 3}"
      ]
     },
     "execution_count": 211,
     "metadata": {},
     "output_type": "execute_result"
    }
   ],
   "source": [
    "set(train['Pclass'])"
   ]
  },
  {
   "cell_type": "code",
   "execution_count": 212,
   "metadata": {},
   "outputs": [],
   "source": [
    "# Pclass one-hot encoding\n",
    "train['NEW_Pclass_1'] = train['Pclass'].map({1:1, 2:0, 3:0})\n",
    "train['NEW_Pclass_2'] = train['Pclass'].map({1:0, 2:1, 3:0})\n",
    "train['NEW_Pclass_3'] = train['Pclass'].map({1:0, 2:0, 3:1})\n",
    "test['NEW_Pclass_1'] = test['Pclass'].map({1:1, 2:0, 3:0})\n",
    "test['NEW_Pclass_2'] = test['Pclass'].map({1:0, 2:1, 3:0})\n",
    "test['NEW_Pclass_3'] = test['Pclass'].map({1:0, 2:0, 3:1})"
   ]
  },
  {
   "cell_type": "code",
   "execution_count": 117,
   "metadata": {},
   "outputs": [],
   "source": [
    "# Sex one-hot encoding\n",
    "train['NEW_Sex'] = train['Sex'].map({'male':0,'female':1})\n",
    "test['NEW_Sex'] = test['Sex'].map({'male':0,'female':1})"
   ]
  },
  {
   "cell_type": "code",
   "execution_count": 101,
   "metadata": {},
   "outputs": [
    {
     "data": {
      "text/plain": [
       "0           A/5 21171\n",
       "1            PC 17599\n",
       "2    STON/O2. 3101282\n",
       "3              113803\n",
       "Name: Ticket, dtype: object"
      ]
     },
     "execution_count": 101,
     "metadata": {},
     "output_type": "execute_result"
    }
   ],
   "source": [
    "# Ticket...은 일단 사용하지 말자...!\n",
    "train['Ticket'].iloc[0:4]"
   ]
  },
  {
   "cell_type": "code",
   "execution_count": 106,
   "metadata": {},
   "outputs": [],
   "source": [
    "# Embarked one-hot encoding\n",
    "train['NEW_Embarked_C'] = train['NEW_Embarked'].map({'C':1,'Q':0,'S':0})\n",
    "train['NEW_Embarked_Q'] = train['NEW_Embarked'].map({'C':0,'Q':1,'S':0})\n",
    "train['NEW_Embarked_S'] = train['NEW_Embarked'].map({'C':0,'Q':0,'S':1})\n",
    "test['NEW_Embarked_C'] = test['Embarked'].map({'C':1,'Q':0,'S':0})\n",
    "test['NEW_Embarked_Q'] = test['Embarked'].map({'C':0,'Q':1,'S':0})\n",
    "test['NEW_Embarked_S'] = test['Embarked'].map({'C':0,'Q':0,'S':1})"
   ]
  },
  {
   "cell_type": "code",
   "execution_count": 109,
   "metadata": {},
   "outputs": [],
   "source": [
    "# Age one-hot encoding\n",
    "train['NEW_Age_010'] = train['NEW_Age'].map({10:1, 2030:0, 4050:0, 6070:0})\n",
    "train['NEW_Age_2030'] = train['NEW_Age'].map({10:0, 2030:1, 4050:0, 6070:0})\n",
    "train['NEW_Age_4050'] = train['NEW_Age'].map({10:0, 2030:0, 4050:1, 6070:0})\n",
    "train['NEW_Age_6070'] = train['NEW_Age'].map({10:0, 2030:0, 4050:0, 6070:1})\n",
    "test['NEW_Age_010'] = test['NEW_Age'].map({10:1, 2030:0, 4050:0, 6070:0})\n",
    "test['NEW_Age_2030'] = test['NEW_Age'].map({10:0, 2030:1, 4050:0, 6070:0})\n",
    "test['NEW_Age_4050'] = test['NEW_Age'].map({10:0, 2030:0, 4050:1, 6070:0})\n",
    "test['NEW_Age_6070'] = test['NEW_Age'].map({10:0, 2030:0, 4050:0, 6070:1})"
   ]
  },
  {
   "cell_type": "code",
   "execution_count": 110,
   "metadata": {},
   "outputs": [
    {
     "data": {
      "text/html": [
       "<div>\n",
       "<style scoped>\n",
       "    .dataframe tbody tr th:only-of-type {\n",
       "        vertical-align: middle;\n",
       "    }\n",
       "\n",
       "    .dataframe tbody tr th {\n",
       "        vertical-align: top;\n",
       "    }\n",
       "\n",
       "    .dataframe thead th {\n",
       "        text-align: right;\n",
       "    }\n",
       "</style>\n",
       "<table border=\"1\" class=\"dataframe\">\n",
       "  <thead>\n",
       "    <tr style=\"text-align: right;\">\n",
       "      <th></th>\n",
       "      <th>Survived</th>\n",
       "      <th>Pclass</th>\n",
       "      <th>Sex</th>\n",
       "      <th>Age</th>\n",
       "      <th>SibSp</th>\n",
       "      <th>Parch</th>\n",
       "      <th>Ticket</th>\n",
       "      <th>Fare</th>\n",
       "      <th>Cabin</th>\n",
       "      <th>Embarked</th>\n",
       "      <th>...</th>\n",
       "      <th>NEW_Embarked</th>\n",
       "      <th>NEW_Age</th>\n",
       "      <th>NEW_Sex</th>\n",
       "      <th>NEW_Embarked_C</th>\n",
       "      <th>NEW_Embarked_Q</th>\n",
       "      <th>NEW_Embarked_S</th>\n",
       "      <th>NEW_Age_010</th>\n",
       "      <th>NEW_Age_2030</th>\n",
       "      <th>NEW_Age_4050</th>\n",
       "      <th>NEW_Age_6070</th>\n",
       "    </tr>\n",
       "  </thead>\n",
       "  <tbody>\n",
       "    <tr>\n",
       "      <th>0</th>\n",
       "      <td>0</td>\n",
       "      <td>3</td>\n",
       "      <td>male</td>\n",
       "      <td>22.0</td>\n",
       "      <td>1</td>\n",
       "      <td>0</td>\n",
       "      <td>A/5 21171</td>\n",
       "      <td>7.2500</td>\n",
       "      <td>NaN</td>\n",
       "      <td>S</td>\n",
       "      <td>...</td>\n",
       "      <td>S</td>\n",
       "      <td>2030.0</td>\n",
       "      <td>0.0</td>\n",
       "      <td>0</td>\n",
       "      <td>0</td>\n",
       "      <td>1</td>\n",
       "      <td>0</td>\n",
       "      <td>1</td>\n",
       "      <td>0</td>\n",
       "      <td>0</td>\n",
       "    </tr>\n",
       "    <tr>\n",
       "      <th>1</th>\n",
       "      <td>1</td>\n",
       "      <td>1</td>\n",
       "      <td>female</td>\n",
       "      <td>38.0</td>\n",
       "      <td>1</td>\n",
       "      <td>0</td>\n",
       "      <td>PC 17599</td>\n",
       "      <td>71.2833</td>\n",
       "      <td>C85</td>\n",
       "      <td>C</td>\n",
       "      <td>...</td>\n",
       "      <td>C</td>\n",
       "      <td>2030.0</td>\n",
       "      <td>NaN</td>\n",
       "      <td>1</td>\n",
       "      <td>0</td>\n",
       "      <td>0</td>\n",
       "      <td>0</td>\n",
       "      <td>1</td>\n",
       "      <td>0</td>\n",
       "      <td>0</td>\n",
       "    </tr>\n",
       "    <tr>\n",
       "      <th>2</th>\n",
       "      <td>1</td>\n",
       "      <td>3</td>\n",
       "      <td>female</td>\n",
       "      <td>26.0</td>\n",
       "      <td>0</td>\n",
       "      <td>0</td>\n",
       "      <td>STON/O2. 3101282</td>\n",
       "      <td>7.9250</td>\n",
       "      <td>NaN</td>\n",
       "      <td>S</td>\n",
       "      <td>...</td>\n",
       "      <td>S</td>\n",
       "      <td>2030.0</td>\n",
       "      <td>NaN</td>\n",
       "      <td>0</td>\n",
       "      <td>0</td>\n",
       "      <td>1</td>\n",
       "      <td>0</td>\n",
       "      <td>1</td>\n",
       "      <td>0</td>\n",
       "      <td>0</td>\n",
       "    </tr>\n",
       "    <tr>\n",
       "      <th>3</th>\n",
       "      <td>1</td>\n",
       "      <td>1</td>\n",
       "      <td>female</td>\n",
       "      <td>35.0</td>\n",
       "      <td>1</td>\n",
       "      <td>0</td>\n",
       "      <td>113803</td>\n",
       "      <td>53.1000</td>\n",
       "      <td>C123</td>\n",
       "      <td>S</td>\n",
       "      <td>...</td>\n",
       "      <td>S</td>\n",
       "      <td>2030.0</td>\n",
       "      <td>NaN</td>\n",
       "      <td>0</td>\n",
       "      <td>0</td>\n",
       "      <td>1</td>\n",
       "      <td>0</td>\n",
       "      <td>1</td>\n",
       "      <td>0</td>\n",
       "      <td>0</td>\n",
       "    </tr>\n",
       "    <tr>\n",
       "      <th>4</th>\n",
       "      <td>0</td>\n",
       "      <td>3</td>\n",
       "      <td>male</td>\n",
       "      <td>35.0</td>\n",
       "      <td>0</td>\n",
       "      <td>0</td>\n",
       "      <td>373450</td>\n",
       "      <td>8.0500</td>\n",
       "      <td>NaN</td>\n",
       "      <td>S</td>\n",
       "      <td>...</td>\n",
       "      <td>S</td>\n",
       "      <td>2030.0</td>\n",
       "      <td>0.0</td>\n",
       "      <td>0</td>\n",
       "      <td>0</td>\n",
       "      <td>1</td>\n",
       "      <td>0</td>\n",
       "      <td>1</td>\n",
       "      <td>0</td>\n",
       "      <td>0</td>\n",
       "    </tr>\n",
       "  </tbody>\n",
       "</table>\n",
       "<p>5 rows × 21 columns</p>\n",
       "</div>"
      ],
      "text/plain": [
       "   Survived  Pclass     Sex   Age  SibSp  Parch            Ticket     Fare  \\\n",
       "0         0       3    male  22.0      1      0         A/5 21171   7.2500   \n",
       "1         1       1  female  38.0      1      0          PC 17599  71.2833   \n",
       "2         1       3  female  26.0      0      0  STON/O2. 3101282   7.9250   \n",
       "3         1       1  female  35.0      1      0            113803  53.1000   \n",
       "4         0       3    male  35.0      0      0            373450   8.0500   \n",
       "\n",
       "  Cabin Embarked      ...       NEW_Embarked NEW_Age  NEW_Sex  NEW_Embarked_C  \\\n",
       "0   NaN        S      ...                  S  2030.0      0.0               0   \n",
       "1   C85        C      ...                  C  2030.0      NaN               1   \n",
       "2   NaN        S      ...                  S  2030.0      NaN               0   \n",
       "3  C123        S      ...                  S  2030.0      NaN               0   \n",
       "4   NaN        S      ...                  S  2030.0      0.0               0   \n",
       "\n",
       "   NEW_Embarked_Q  NEW_Embarked_S  NEW_Age_010  NEW_Age_2030  NEW_Age_4050  \\\n",
       "0               0               1            0             1             0   \n",
       "1               0               0            0             1             0   \n",
       "2               0               1            0             1             0   \n",
       "3               0               1            0             1             0   \n",
       "4               0               1            0             1             0   \n",
       "\n",
       "   NEW_Age_6070  \n",
       "0             0  \n",
       "1             0  \n",
       "2             0  \n",
       "3             0  \n",
       "4             0  \n",
       "\n",
       "[5 rows x 21 columns]"
      ]
     },
     "execution_count": 110,
     "metadata": {},
     "output_type": "execute_result"
    }
   ],
   "source": [
    "train.head()"
   ]
  },
  {
   "cell_type": "code",
   "execution_count": 213,
   "metadata": {},
   "outputs": [
    {
     "data": {
      "text/plain": [
       "Index(['Pclass', 'Sex', 'Age', 'SibSp', 'Parch', 'Ticket', 'Fare', 'Cabin',\n",
       "       'Embarked', 'NEW_Cabin', 'NEW_Age', 'NEW_Fare', 'NEW_Sex',\n",
       "       'NEW_Embarked_C', 'NEW_Embarked_Q', 'NEW_Embarked_S', 'NEW_Age_010',\n",
       "       'NEW_Age_2030', 'NEW_Age_4050', 'NEW_Age_6070', 'NEW_Pclass_1',\n",
       "       'NEW_Pclass_2', 'NEW_Pclass_3'],\n",
       "      dtype='object')"
      ]
     },
     "execution_count": 213,
     "metadata": {},
     "output_type": "execute_result"
    }
   ],
   "source": [
    "test.columns"
   ]
  },
  {
   "cell_type": "code",
   "execution_count": 214,
   "metadata": {},
   "outputs": [],
   "source": [
    "train_X = train[['SibSp', 'Parch', 'Fare', 'NEW_Cabin', 'NEW_Sex','NEW_Embarked_C', 'NEW_Embarked_Q', 'NEW_Embarked_S', \n",
    "                 'NEW_Age_010', 'NEW_Age_2030', 'NEW_Age_4050', 'NEW_Age_6070', 'NEW_Pclass_1', 'NEW_Pclass_2', 'NEW_Pclass_3']]\n",
    "train_Y = train['Survived']\n",
    "test_X = test[['SibSp', 'Parch', 'Fare', 'NEW_Cabin', 'NEW_Sex', 'NEW_Embarked_C', 'NEW_Embarked_Q', 'NEW_Embarked_S', \n",
    "               'NEW_Age_010', 'NEW_Age_2030', 'NEW_Age_4050', 'NEW_Age_6070', 'NEW_Pclass_1', 'NEW_Pclass_2', 'NEW_Pclass_3']]"
   ]
  },
  {
   "cell_type": "markdown",
   "metadata": {},
   "source": [
    "모델링(stacking by randomForest, bagging, boosting) - validation"
   ]
  },
  {
   "cell_type": "code",
   "execution_count": 257,
   "metadata": {},
   "outputs": [],
   "source": [
    "# train - validation split\n",
    "from sklearn.model_selection import train_test_split\n",
    "from sklearn.metrics import accuracy_score\n",
    "train_val_X, validation_X, train_val_Y, validation_Y = train_test_split(train_X, train_Y, test_size=0.3, random_state=12)"
   ]
  },
  {
   "cell_type": "code",
   "execution_count": 258,
   "metadata": {},
   "outputs": [
    {
     "data": {
      "text/plain": [
       "0.7761194029850746"
      ]
     },
     "execution_count": 258,
     "metadata": {},
     "output_type": "execute_result"
    }
   ],
   "source": [
    "# randomforest\n",
    "from sklearn.ensemble import RandomForestClassifier\n",
    "model_rf = RandomForestClassifier(n_estimators=200, max_depth=10, min_samples_split=2, min_samples_leaf=1, \n",
    "                                  min_weight_fraction_leaf=0.0, max_features='auto', max_leaf_nodes=None, \n",
    "                                  min_impurity_decrease=0.0, min_impurity_split=None, bootstrap=True, \n",
    "                                  oob_score=False, random_state=None, verbose=0, warm_start=False, class_weight=None)\n",
    "model_rf.fit(train_val_X, train_val_Y)\n",
    "pred_val_rf = model_rf.predict(validation_X)\n",
    "accuracy_score(validation_Y, pred_val_rf)"
   ]
  },
  {
   "cell_type": "code",
   "execution_count": 259,
   "metadata": {},
   "outputs": [
    {
     "data": {
      "text/plain": [
       "0.7910447761194029"
      ]
     },
     "execution_count": 259,
     "metadata": {},
     "output_type": "execute_result"
    }
   ],
   "source": [
    "# bagging\n",
    "from sklearn.ensemble import BaggingClassifier\n",
    "model_bag = BaggingClassifier(base_estimator=None, n_estimators=200, max_samples=500, max_features=10, bootstrap=True, \n",
    "                              bootstrap_features=False, oob_score=False, warm_start=False, random_state=None, verbose=0)\n",
    "model_bag.fit(train_val_X, train_val_Y)\n",
    "pred_val_bag = model_bag.predict(validation_X)\n",
    "accuracy_score(validation_Y, pred_val_bag)"
   ]
  },
  {
   "cell_type": "code",
   "execution_count": 260,
   "metadata": {},
   "outputs": [
    {
     "data": {
      "text/plain": [
       "0.7910447761194029"
      ]
     },
     "execution_count": 260,
     "metadata": {},
     "output_type": "execute_result"
    }
   ],
   "source": [
    "# boosting\n",
    "from sklearn.ensemble import GradientBoostingClassifier\n",
    "model_boost = GradientBoostingClassifier(loss='deviance', learning_rate=0.401, n_estimators=100, subsample=1.0, \n",
    "                                         criterion='friedman_mse', min_samples_split=2, min_samples_leaf=1, \n",
    "                                         min_weight_fraction_leaf=0.0, max_depth=3, min_impurity_decrease=0.0, \n",
    "                                         min_impurity_split=None, init=None, random_state=None, max_features=None, \n",
    "                                         verbose=0, max_leaf_nodes=None, warm_start=False, presort='auto')\n",
    "model_boost.fit(train_val_X, train_val_Y)\n",
    "pred_val_boost = model_boost.predict(validation_X)\n",
    "accuracy_score(validation_Y, pred_val_boost)"
   ]
  },
  {
   "cell_type": "code",
   "execution_count": 268,
   "metadata": {},
   "outputs": [
    {
     "ename": "TypeError",
     "evalue": "type numpy.ndarray doesn't define __round__ method",
     "output_type": "error",
     "traceback": [
      "\u001b[1;31m-----------------------------------------------------------\u001b[0m",
      "\u001b[1;31mTypeError\u001b[0m                 Traceback (most recent call last)",
      "\u001b[1;32m<ipython-input-268-7c06ecb270c3>\u001b[0m in \u001b[0;36m<module>\u001b[1;34m()\u001b[0m\n\u001b[0;32m      4\u001b[0m \u001b[0mmodel_lasso\u001b[0m\u001b[1;33m.\u001b[0m\u001b[0mfit\u001b[0m\u001b[1;33m(\u001b[0m\u001b[0mtrain_val_X\u001b[0m\u001b[1;33m,\u001b[0m \u001b[0mtrain_val_Y\u001b[0m\u001b[1;33m)\u001b[0m\u001b[1;33m\u001b[0m\u001b[0m\n\u001b[0;32m      5\u001b[0m \u001b[0mpred_val_lasso\u001b[0m \u001b[1;33m=\u001b[0m \u001b[0mmodel_lasso\u001b[0m\u001b[1;33m.\u001b[0m\u001b[0mpredict\u001b[0m\u001b[1;33m(\u001b[0m\u001b[0mvalidation_X\u001b[0m\u001b[1;33m)\u001b[0m\u001b[1;33m\u001b[0m\u001b[0m\n\u001b[1;32m----> 6\u001b[1;33m \u001b[0mround\u001b[0m\u001b[1;33m(\u001b[0m\u001b[0mpred_val_lasso\u001b[0m\u001b[1;33m)\u001b[0m\u001b[1;33m\u001b[0m\u001b[0m\n\u001b[0m\u001b[0;32m      7\u001b[0m \u001b[1;31m#accuracy_score(validation_Y, pred_val_lasso)\u001b[0m\u001b[1;33m\u001b[0m\u001b[1;33m\u001b[0m\u001b[0m\n",
      "\u001b[1;31mTypeError\u001b[0m: type numpy.ndarray doesn't define __round__ method"
     ]
    }
   ],
   "source": [
    "from sklearn.linear_model import Lasso\n",
    "model_lasso = Lasso(alpha=1.0, fit_intercept=True, normalize=False, precompute=False, copy_X=True, max_iter=1000, \n",
    "                    tol=0.0001, warm_start=False, positive=False, random_state=None, selection='cyclic')\n",
    "model_lasso.fit(train_val_X, train_val_Y)\n",
    "pred_val_lasso = model_lasso.predict(validation_X)\n",
    "pred_val_lasso\n",
    "#accuracy_score(validation_Y, pred_val_lasso)"
   ]
  },
  {
   "cell_type": "code",
   "execution_count": 256,
   "metadata": {},
   "outputs": [
    {
     "data": {
      "text/plain": [
       "0.7761194029850746"
      ]
     },
     "execution_count": 256,
     "metadata": {},
     "output_type": "execute_result"
    }
   ],
   "source": [
    "pred_val_all = (pred_val_rf + pred_val_bag + pred_val_boost)//3\n",
    "accuracy_score(validation_Y, pred_val_all)"
   ]
  },
  {
   "cell_type": "markdown",
   "metadata": {},
   "source": [
    "모델링(stacking by randomForest, bagging, boosting) - test"
   ]
  },
  {
   "cell_type": "code",
   "execution_count": 263,
   "metadata": {},
   "outputs": [],
   "source": [
    "model_rf.fit(train_X, train_Y)\n",
    "model_bag.fit(train_X, train_Y)\n",
    "model_boost.fit(train_X, train_Y)\n",
    "pred_rf = model_rf.predict(test_X)\n",
    "pred_bag = model_bag.predict(test_X)\n",
    "pred_boost = model_boost.predict(test_X)\n",
    "pred_all = (pred_rf + pred_bag + pred_boost)//3"
   ]
  },
  {
   "cell_type": "code",
   "execution_count": 264,
   "metadata": {},
   "outputs": [],
   "source": [
    "pd.DataFrame(pred_all).to_csv(\"submission2.csv\")"
   ]
  },
  {
   "cell_type": "code",
   "execution_count": null,
   "metadata": {},
   "outputs": [],
   "source": []
  }
 ],
 "metadata": {
  "kernelspec": {
   "display_name": "Python 3",
   "language": "python",
   "name": "python3"
  },
  "language_info": {
   "codemirror_mode": {
    "name": "ipython",
    "version": 3
   },
   "file_extension": ".py",
   "mimetype": "text/x-python",
   "name": "python",
   "nbconvert_exporter": "python",
   "pygments_lexer": "ipython3",
   "version": "3.5.3"
  }
 },
 "nbformat": 4,
 "nbformat_minor": 2
}
